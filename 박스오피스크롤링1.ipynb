import pandas as pd
from selenium import webdriver as wd
from bs4 import BeautifulSoup
import time
from konlpy.tag import Okt
from tqdm import tqdm
import re

driver = wd.Chrome(executable_path="C:/pydata/chromedriver.exe")
url = 'https://www.boxofficemojo.com/year/world/?ref_=bo_nb_wly_tab'
time.sleep(2)
driver.get(url)

last_page_height = driver.execute_script("return document.documentElement.scrollHeight")

while True:
    driver.execute_script("window.scrollTo(0, document.documentElement.scrollHeight);")
    time.sleep(2)
    new_page_height = driver.execute_script("return document.documentElement.scrollHeight")

    if new_page_height == last_page_height:
        break
    last_page_height = new_page_height

# get the page source

html_source = driver.page_source
driver.close()
soup = BeautifulSoup(html_source, 'lxml')
soup = soup.find('tbody') # find table

tr_group = soup.find_all('tr')   # save all tr

office_chart_list = []

for idx, tr in enumerate(tr_group):
    if idx > 0:
        tds = tr.find_all('td')
        rank = tds[0].text.strip()
        release_group = tds[1].text.strip()
        worldwide = tds[2].text.strip()
        domestic = tds[3].text.strip()
        d_percentage = tds[4].text.strip()
        foreign = tds[5].text.strip()
        f_percentage = tds[6].text.strip()
        office_chart_list.append({"랭킹": rank, "영화명":release_group, "총수입":worldwide,"국내수입":domestic,"국내수입_퍼센트":d_percentage,"해외수입":foreign, "해외수입_퍼센트":f_percentage})

df = pd.DataFrame(office_chart_list, columns=['랭킹', '영화명', '총수입', '국내수입', "국내수입_퍼센트", "해외수입", "해외수입_퍼센트"])
print(df)
df.to_csv("c:/pydata/박스오피스 top200_new.csv")import pandas as pd
from selenium import webdriver as wd
from bs4 import BeautifulSoup
import time
from konlpy.tag import Okt
from tqdm import tqdm
import re

driver = wd.Chrome(executable_path="C:/pydata/chromedriver.exe")
url = 'https://www.boxofficemojo.com/year/world/?ref_=bo_nb_wly_tab'
time.sleep(2)
driver.get(url)

last_page_height = driver.execute_script("return document.documentElement.scrollHeight")

while True:
    driver.execute_script("window.scrollTo(0, document.documentElement.scrollHeight);")
    time.sleep(2)
    new_page_height = driver.execute_script("return document.documentElement.scrollHeight")

    if new_page_height == last_page_height:
        break
    last_page_height = new_page_height

# get the page source

html_source = driver.page_source
driver.close()
soup = BeautifulSoup(html_source, 'lxml')
soup = soup.find('tbody') # find table

tr_group = soup.find_all('tr')   # save all tr

office_chart_list = []

for idx, tr in enumerate(tr_group):
    if idx > 0:
        tds = tr.find_all('td')
        rank = tds[0].text.strip()
        release_group = tds[1].text.strip()
        worldwide = tds[2].text.strip()
        domestic = tds[3].text.strip()
        d_percentage = tds[4].text.strip()
        foreign = tds[5].text.strip()
        f_percentage = tds[6].text.strip()
        office_chart_list.append({"랭킹": rank, "영화명":release_group, "총수입":worldwide,"국내수입":domestic,"국내수입_퍼센트":d_percentage,"해외수입":foreign, "해외수입_퍼센트":f_percentage})

df = pd.DataFrame(office_chart_list, columns=['랭킹', '영화명', '총수입', '국내수입', "국내수입_퍼센트", "해외수입", "해외수입_퍼센트"])
print(df)
df.to_csv("c:/pydata/박스오피스 top200_new.csv")
